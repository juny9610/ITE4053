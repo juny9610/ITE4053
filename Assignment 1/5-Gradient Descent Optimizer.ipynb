{
 "cells": [
  {
   "cell_type": "code",
   "execution_count": 6,
   "id": "conventional-great",
   "metadata": {},
   "outputs": [
    {
     "name": "stdout",
     "output_type": "stream",
     "text": [
      "Extracting ./mnist/data/train-images-idx3-ubyte.gz\n",
      "Extracting ./mnist/data/train-labels-idx1-ubyte.gz\n",
      "Extracting ./mnist/data/t10k-images-idx3-ubyte.gz\n",
      "Extracting ./mnist/data/t10k-labels-idx1-ubyte.gz\n",
      "Epoch:  1 cost = 0.932951244\n",
      "Epoch:  2 cost = 0.439127001\n",
      "Epoch:  3 cost = 0.355977076\n",
      "Epoch:  4 cost = 0.310988340\n",
      "Epoch:  5 cost = 0.279746349\n",
      "Epoch:  6 cost = 0.256110537\n",
      "Epoch:  7 cost = 0.237630512\n",
      "Epoch:  8 cost = 0.222235265\n",
      "Epoch:  9 cost = 0.209309288\n",
      "Epoch:  10 cost = 0.198324174\n",
      "Epoch:  11 cost = 0.187842718\n",
      "Epoch:  12 cost = 0.179427245\n",
      "Epoch:  13 cost = 0.171128712\n",
      "Epoch:  14 cost = 0.164215577\n",
      "Epoch:  15 cost = 0.157797423\n",
      "Accuracy 0.9375\n"
     ]
    }
   ],
   "source": [
    "import tensorflow as tf\n",
    "from tensorflow.examples.tutorials.mnist import input_data\n",
    "\n",
    "mnist = input_data.read_data_sets(\"./mnist/data/\", one_hot=True)\n",
    "\n",
    "X = tf.placeholder(tf.float32, [None, 784])\n",
    "Y = tf.placeholder(tf.float32, [None, 10])\n",
    "\n",
    "W1 = tf.Variable(tf.random_uniform([784, 256], -1., 1.))\n",
    "b1 = tf.Variable(tf.random_uniform([256], -1., 1.))\n",
    "L1 = tf.nn.sigmoid(tf.matmul(X, W1) + b1)\n",
    "\n",
    "W2 = tf.Variable(tf.random_uniform([256, 256], -1., 1.))\n",
    "b2 = tf.Variable(tf.random_uniform([256], -1., 1.))\n",
    "L2 = tf.nn.sigmoid(tf.matmul(L1, W2) + b2)\n",
    "\n",
    "W3 = tf.Variable(tf.random_uniform([256, 10], -1., 1.))\n",
    "b3 = tf.Variable(tf.random_uniform([10], -1., 1.))\n",
    "\n",
    "logits = tf.matmul(L2, W3) + b3\n",
    "hypothesis = tf.nn.softmax(logits)\n",
    "cost = tf.reduce_mean(tf.nn.softmax_cross_entropy_with_logits_v2(labels=Y, logits=logits))\n",
    "opt = tf.train.GradientDescentOptimizer(learning_rate=0.1).minimize(cost)\n",
    "\n",
    "batch_size = 100\n",
    "\n",
    "with tf.Session() as sess:\n",
    "    sess.run(tf.global_variables_initializer())\n",
    "    for epoch in range(15):\n",
    "        avg_cost = 0\n",
    "        total_batch = int(mnist.train.num_examples/batch_size)\n",
    "        for i in range(total_batch):\n",
    "            batch_xs, batch_ys = mnist.train.next_batch(batch_size)\n",
    "            c, _ = sess.run([cost, opt], feed_dict={X: batch_xs, Y: batch_ys})\n",
    "            avg_cost += c / total_batch\n",
    "        print('Epoch: ', '%d' % (epoch+1), 'cost =', '{:.9f}'.format(avg_cost))\n",
    "\n",
    "    is_correct = tf.equal(tf.argmax(hypothesis, 1), tf.argmax(Y, 1))\n",
    "    accuracy = tf.reduce_mean(tf.cast(is_correct, tf.float32))\n",
    "    print(\"Accuracy\", sess.run(accuracy, feed_dict={X: mnist.test.images, Y: mnist.test.labels}))"
   ]
  },
  {
   "cell_type": "code",
   "execution_count": null,
   "id": "forty-gentleman",
   "metadata": {},
   "outputs": [],
   "source": []
  }
 ],
 "metadata": {
  "kernelspec": {
   "display_name": "Python 3",
   "language": "python",
   "name": "python3"
  },
  "language_info": {
   "codemirror_mode": {
    "name": "ipython",
    "version": 3
   },
   "file_extension": ".py",
   "mimetype": "text/x-python",
   "name": "python",
   "nbconvert_exporter": "python",
   "pygments_lexer": "ipython3",
   "version": "3.7.10"
  }
 },
 "nbformat": 4,
 "nbformat_minor": 5
}
